{
 "cells": [
  {
   "cell_type": "code",
   "execution_count": 1,
   "id": "b519fa1e",
   "metadata": {},
   "outputs": [],
   "source": [
    "import pandas as pd\n",
    "import numpy as np\n",
    "import warnings \n",
    "from datetime import datetime"
   ]
  },
  {
   "cell_type": "code",
   "execution_count": 3,
   "id": "ba3912a3",
   "metadata": {},
   "outputs": [
    {
     "name": "stderr",
     "output_type": "stream",
     "text": [
      "C:\\Users\\Antifragile\\AppData\\Local\\Temp\\ipykernel_3644\\1400180423.py:4: DtypeWarning: Columns (32,37) have mixed types. Specify dtype option on import or set low_memory=False.\n",
      "  df = pd.read_csv(r'C:\\Users\\Antifragile\\Desktop\\Insurance_risk_analysis_and_predictive_modeling\\data\\MachineLearningRating_v3.txt', sep='|')\n"
     ]
    },
    {
     "name": "stdout",
     "output_type": "stream",
     "text": [
      "Data loaded successfully!\n",
      "Dataset shape: (1000098, 52)\n"
     ]
    }
   ],
   "source": [
    "# Load the dataset\n",
    "# Replace 'your_data_file.csv' with the actual path to your data\n",
    "try:\n",
    "    df = pd.read_csv(r'C:\\Users\\Antifragile\\Desktop\\Insurance_risk_analysis_and_predictive_modeling\\data\\MachineLearningRating_v3.txt', sep='|')\n",
    "    print(f\"Data loaded successfully!\")\n",
    "    print(f\"Dataset shape: {df.shape}\")\n",
    "except FileNotFoundError:\n",
    "    print(\"Please ensure your data file is in the correct path\")\n",
    "    # For demonstration, we'll create sample data structure\n",
    "    print(\"Creating sample data structure for demonstration...\")"
   ]
  },
  {
   "cell_type": "code",
   "execution_count": 5,
   "id": "142a35c8",
   "metadata": {},
   "outputs": [
    {
     "name": "stdout",
     "output_type": "stream",
     "text": [
      "=== DATASET OVERVIEW ===\n",
      "Shape: (1000098, 52)\n",
      "Memory usage: 2352.61 MB\n",
      "\n",
      "=== COLUMN INFORMATION ===\n",
      "<class 'pandas.core.frame.DataFrame'>\n",
      "RangeIndex: 1000098 entries, 0 to 1000097\n",
      "Data columns (total 52 columns):\n",
      " #   Column                    Non-Null Count    Dtype  \n",
      "---  ------                    --------------    -----  \n",
      " 0   UnderwrittenCoverID       1000098 non-null  int64  \n",
      " 1   PolicyID                  1000098 non-null  int64  \n",
      " 2   TransactionMonth          1000098 non-null  object \n",
      " 3   IsVATRegistered           1000098 non-null  bool   \n",
      " 4   Citizenship               1000098 non-null  object \n",
      " 5   LegalType                 1000098 non-null  object \n",
      " 6   Title                     1000098 non-null  object \n",
      " 7   Language                  1000098 non-null  object \n",
      " 8   Bank                      854137 non-null   object \n",
      " 9   AccountType               959866 non-null   object \n",
      " 10  MaritalStatus             991839 non-null   object \n",
      " 11  Gender                    990562 non-null   object \n",
      " 12  Country                   1000098 non-null  object \n",
      " 13  Province                  1000098 non-null  object \n",
      " 14  PostalCode                1000098 non-null  int64  \n",
      " 15  MainCrestaZone            1000098 non-null  object \n",
      " 16  SubCrestaZone             1000098 non-null  object \n",
      " 17  ItemType                  1000098 non-null  object \n",
      " 18  mmcode                    999546 non-null   float64\n",
      " 19  VehicleType               999546 non-null   object \n",
      " 20  RegistrationYear          1000098 non-null  int64  \n",
      " 21  make                      999546 non-null   object \n",
      " 22  Model                     999546 non-null   object \n",
      " 23  Cylinders                 999546 non-null   float64\n",
      " 24  cubiccapacity             999546 non-null   float64\n",
      " 25  kilowatts                 999546 non-null   float64\n",
      " 26  bodytype                  999546 non-null   object \n",
      " 27  NumberOfDoors             999546 non-null   float64\n",
      " 28  VehicleIntroDate          999546 non-null   object \n",
      " 29  CustomValueEstimate       220456 non-null   float64\n",
      " 30  AlarmImmobiliser          1000098 non-null  object \n",
      " 31  TrackingDevice            1000098 non-null  object \n",
      " 32  CapitalOutstanding        1000096 non-null  object \n",
      " 33  NewVehicle                846803 non-null   object \n",
      " 34  WrittenOff                358197 non-null   object \n",
      " 35  Rebuilt                   358197 non-null   object \n",
      " 36  Converted                 358197 non-null   object \n",
      " 37  CrossBorder               698 non-null      object \n",
      " 38  NumberOfVehiclesInFleet   0 non-null        float64\n",
      " 39  SumInsured                1000098 non-null  float64\n",
      " 40  TermFrequency             1000098 non-null  object \n",
      " 41  CalculatedPremiumPerTerm  1000098 non-null  float64\n",
      " 42  ExcessSelected            1000098 non-null  object \n",
      " 43  CoverCategory             1000098 non-null  object \n",
      " 44  CoverType                 1000098 non-null  object \n",
      " 45  CoverGroup                1000098 non-null  object \n",
      " 46  Section                   1000098 non-null  object \n",
      " 47  Product                   1000098 non-null  object \n",
      " 48  StatutoryClass            1000098 non-null  object \n",
      " 49  StatutoryRiskType         1000098 non-null  object \n",
      " 50  TotalPremium              1000098 non-null  float64\n",
      " 51  TotalClaims               1000098 non-null  float64\n",
      "dtypes: bool(1), float64(11), int64(4), object(36)\n",
      "memory usage: 390.1+ MB\n",
      "None\n"
     ]
    }
   ],
   "source": [
    "## 2. Data Understanding\n",
    "\n",
    "### 2.1 Initial Data Exploration\n",
    "\n",
    "# Display basic information about the dataset\n",
    "print(\"=== DATASET OVERVIEW ===\")\n",
    "print(f\"Shape: {df.shape}\")\n",
    "print(f\"Memory usage: {df.memory_usage(deep=True).sum() / 1024**2:.2f} MB\")\n",
    "print(\"\\n=== COLUMN INFORMATION ===\")\n",
    "print(df.info())"
   ]
  },
  {
   "cell_type": "code",
   "execution_count": 6,
   "id": "c898c8c6",
   "metadata": {},
   "outputs": [
    {
     "name": "stdout",
     "output_type": "stream",
     "text": [
      "=== FIRST 5 ROWS ===\n"
     ]
    },
    {
     "data": {
      "application/vnd.microsoft.datawrangler.viewer.v0+json": {
       "columns": [
        {
         "name": "index",
         "rawType": "int64",
         "type": "integer"
        },
        {
         "name": "UnderwrittenCoverID",
         "rawType": "int64",
         "type": "integer"
        },
        {
         "name": "PolicyID",
         "rawType": "int64",
         "type": "integer"
        },
        {
         "name": "TransactionMonth",
         "rawType": "object",
         "type": "string"
        },
        {
         "name": "IsVATRegistered",
         "rawType": "bool",
         "type": "boolean"
        },
        {
         "name": "Citizenship",
         "rawType": "object",
         "type": "string"
        },
        {
         "name": "LegalType",
         "rawType": "object",
         "type": "string"
        },
        {
         "name": "Title",
         "rawType": "object",
         "type": "string"
        },
        {
         "name": "Language",
         "rawType": "object",
         "type": "string"
        },
        {
         "name": "Bank",
         "rawType": "object",
         "type": "string"
        },
        {
         "name": "AccountType",
         "rawType": "object",
         "type": "string"
        },
        {
         "name": "MaritalStatus",
         "rawType": "object",
         "type": "string"
        },
        {
         "name": "Gender",
         "rawType": "object",
         "type": "string"
        },
        {
         "name": "Country",
         "rawType": "object",
         "type": "string"
        },
        {
         "name": "Province",
         "rawType": "object",
         "type": "string"
        },
        {
         "name": "PostalCode",
         "rawType": "int64",
         "type": "integer"
        },
        {
         "name": "MainCrestaZone",
         "rawType": "object",
         "type": "string"
        },
        {
         "name": "SubCrestaZone",
         "rawType": "object",
         "type": "string"
        },
        {
         "name": "ItemType",
         "rawType": "object",
         "type": "string"
        },
        {
         "name": "mmcode",
         "rawType": "float64",
         "type": "float"
        },
        {
         "name": "VehicleType",
         "rawType": "object",
         "type": "string"
        },
        {
         "name": "RegistrationYear",
         "rawType": "int64",
         "type": "integer"
        },
        {
         "name": "make",
         "rawType": "object",
         "type": "string"
        },
        {
         "name": "Model",
         "rawType": "object",
         "type": "string"
        },
        {
         "name": "Cylinders",
         "rawType": "float64",
         "type": "float"
        },
        {
         "name": "cubiccapacity",
         "rawType": "float64",
         "type": "float"
        },
        {
         "name": "kilowatts",
         "rawType": "float64",
         "type": "float"
        },
        {
         "name": "bodytype",
         "rawType": "object",
         "type": "string"
        },
        {
         "name": "NumberOfDoors",
         "rawType": "float64",
         "type": "float"
        },
        {
         "name": "VehicleIntroDate",
         "rawType": "object",
         "type": "string"
        },
        {
         "name": "CustomValueEstimate",
         "rawType": "float64",
         "type": "float"
        },
        {
         "name": "AlarmImmobiliser",
         "rawType": "object",
         "type": "string"
        },
        {
         "name": "TrackingDevice",
         "rawType": "object",
         "type": "string"
        },
        {
         "name": "CapitalOutstanding",
         "rawType": "object",
         "type": "unknown"
        },
        {
         "name": "NewVehicle",
         "rawType": "object",
         "type": "string"
        },
        {
         "name": "WrittenOff",
         "rawType": "object",
         "type": "unknown"
        },
        {
         "name": "Rebuilt",
         "rawType": "object",
         "type": "unknown"
        },
        {
         "name": "Converted",
         "rawType": "object",
         "type": "unknown"
        },
        {
         "name": "CrossBorder",
         "rawType": "object",
         "type": "unknown"
        },
        {
         "name": "NumberOfVehiclesInFleet",
         "rawType": "float64",
         "type": "float"
        },
        {
         "name": "SumInsured",
         "rawType": "float64",
         "type": "float"
        },
        {
         "name": "TermFrequency",
         "rawType": "object",
         "type": "string"
        },
        {
         "name": "CalculatedPremiumPerTerm",
         "rawType": "float64",
         "type": "float"
        },
        {
         "name": "ExcessSelected",
         "rawType": "object",
         "type": "string"
        },
        {
         "name": "CoverCategory",
         "rawType": "object",
         "type": "string"
        },
        {
         "name": "CoverType",
         "rawType": "object",
         "type": "string"
        },
        {
         "name": "CoverGroup",
         "rawType": "object",
         "type": "string"
        },
        {
         "name": "Section",
         "rawType": "object",
         "type": "string"
        },
        {
         "name": "Product",
         "rawType": "object",
         "type": "string"
        },
        {
         "name": "StatutoryClass",
         "rawType": "object",
         "type": "string"
        },
        {
         "name": "StatutoryRiskType",
         "rawType": "object",
         "type": "string"
        },
        {
         "name": "TotalPremium",
         "rawType": "float64",
         "type": "float"
        },
        {
         "name": "TotalClaims",
         "rawType": "float64",
         "type": "float"
        }
       ],
       "ref": "486a96be-654e-487d-9508-bc08bf0dd5ce",
       "rows": [
        [
         "0",
         "145249",
         "12827",
         "2015-03-01 00:00:00",
         "True",
         "  ",
         "Close Corporation",
         "Mr",
         "English",
         "First National Bank",
         "Current account",
         "Not specified",
         "Not specified",
         "South Africa",
         "Gauteng",
         "1459",
         "Rand East",
         "Rand East",
         "Mobility - Motor",
         "44069150.0",
         "Passenger Vehicle",
         "2004",
         "MERCEDES-BENZ",
         "E 240",
         "6.0",
         "2597.0",
         "130.0",
         "S/D",
         "4.0",
         "6/2002",
         "119300.0",
         "Yes",
         "No",
         "119300",
         "More than 6 months",
         null,
         null,
         null,
         null,
         null,
         "0.01",
         "Monthly",
         "25.0",
         "Mobility - Windscreen",
         "Windscreen",
         "Windscreen",
         "Comprehensive - Taxi",
         "Motor Comprehensive",
         "Mobility Metered Taxis: Monthly",
         "Commercial",
         "IFRS Constant",
         "21.929824561403",
         "0.0"
        ],
        [
         "1",
         "145249",
         "12827",
         "2015-05-01 00:00:00",
         "True",
         "  ",
         "Close Corporation",
         "Mr",
         "English",
         "First National Bank",
         "Current account",
         "Not specified",
         "Not specified",
         "South Africa",
         "Gauteng",
         "1459",
         "Rand East",
         "Rand East",
         "Mobility - Motor",
         "44069150.0",
         "Passenger Vehicle",
         "2004",
         "MERCEDES-BENZ",
         "E 240",
         "6.0",
         "2597.0",
         "130.0",
         "S/D",
         "4.0",
         "6/2002",
         "119300.0",
         "Yes",
         "No",
         "119300",
         "More than 6 months",
         null,
         null,
         null,
         null,
         null,
         "0.01",
         "Monthly",
         "25.0",
         "Mobility - Windscreen",
         "Windscreen",
         "Windscreen",
         "Comprehensive - Taxi",
         "Motor Comprehensive",
         "Mobility Metered Taxis: Monthly",
         "Commercial",
         "IFRS Constant",
         "21.929824561403",
         "0.0"
        ],
        [
         "2",
         "145249",
         "12827",
         "2015-07-01 00:00:00",
         "True",
         "  ",
         "Close Corporation",
         "Mr",
         "English",
         "First National Bank",
         "Current account",
         "Not specified",
         "Not specified",
         "South Africa",
         "Gauteng",
         "1459",
         "Rand East",
         "Rand East",
         "Mobility - Motor",
         "44069150.0",
         "Passenger Vehicle",
         "2004",
         "MERCEDES-BENZ",
         "E 240",
         "6.0",
         "2597.0",
         "130.0",
         "S/D",
         "4.0",
         "6/2002",
         "119300.0",
         "Yes",
         "No",
         "119300",
         "More than 6 months",
         null,
         null,
         null,
         null,
         null,
         "0.01",
         "Monthly",
         "25.0",
         "Mobility - Windscreen",
         "Windscreen",
         "Windscreen",
         "Comprehensive - Taxi",
         "Motor Comprehensive",
         "Mobility Metered Taxis: Monthly",
         "Commercial",
         "IFRS Constant",
         "0.0",
         "0.0"
        ],
        [
         "3",
         "145255",
         "12827",
         "2015-05-01 00:00:00",
         "True",
         "  ",
         "Close Corporation",
         "Mr",
         "English",
         "First National Bank",
         "Current account",
         "Not specified",
         "Not specified",
         "South Africa",
         "Gauteng",
         "1459",
         "Rand East",
         "Rand East",
         "Mobility - Motor",
         "44069150.0",
         "Passenger Vehicle",
         "2004",
         "MERCEDES-BENZ",
         "E 240",
         "6.0",
         "2597.0",
         "130.0",
         "S/D",
         "4.0",
         "6/2002",
         "119300.0",
         "Yes",
         "No",
         "119300",
         "More than 6 months",
         null,
         null,
         null,
         null,
         null,
         "119300.0",
         "Monthly",
         "584.6468",
         "Mobility - Metered Taxis - R2000",
         "Own damage",
         "Own Damage",
         "Comprehensive - Taxi",
         "Motor Comprehensive",
         "Mobility Metered Taxis: Monthly",
         "Commercial",
         "IFRS Constant",
         "512.848070175439",
         "0.0"
        ],
        [
         "4",
         "145255",
         "12827",
         "2015-07-01 00:00:00",
         "True",
         "  ",
         "Close Corporation",
         "Mr",
         "English",
         "First National Bank",
         "Current account",
         "Not specified",
         "Not specified",
         "South Africa",
         "Gauteng",
         "1459",
         "Rand East",
         "Rand East",
         "Mobility - Motor",
         "44069150.0",
         "Passenger Vehicle",
         "2004",
         "MERCEDES-BENZ",
         "E 240",
         "6.0",
         "2597.0",
         "130.0",
         "S/D",
         "4.0",
         "6/2002",
         "119300.0",
         "Yes",
         "No",
         "119300",
         "More than 6 months",
         null,
         null,
         null,
         null,
         null,
         "119300.0",
         "Monthly",
         "584.6468",
         "Mobility - Metered Taxis - R2000",
         "Own damage",
         "Own Damage",
         "Comprehensive - Taxi",
         "Motor Comprehensive",
         "Mobility Metered Taxis: Monthly",
         "Commercial",
         "IFRS Constant",
         "0.0",
         "0.0"
        ]
       ],
       "shape": {
        "columns": 52,
        "rows": 5
       }
      },
      "text/html": [
       "<div>\n",
       "<style scoped>\n",
       "    .dataframe tbody tr th:only-of-type {\n",
       "        vertical-align: middle;\n",
       "    }\n",
       "\n",
       "    .dataframe tbody tr th {\n",
       "        vertical-align: top;\n",
       "    }\n",
       "\n",
       "    .dataframe thead th {\n",
       "        text-align: right;\n",
       "    }\n",
       "</style>\n",
       "<table border=\"1\" class=\"dataframe\">\n",
       "  <thead>\n",
       "    <tr style=\"text-align: right;\">\n",
       "      <th></th>\n",
       "      <th>UnderwrittenCoverID</th>\n",
       "      <th>PolicyID</th>\n",
       "      <th>TransactionMonth</th>\n",
       "      <th>IsVATRegistered</th>\n",
       "      <th>Citizenship</th>\n",
       "      <th>LegalType</th>\n",
       "      <th>Title</th>\n",
       "      <th>Language</th>\n",
       "      <th>Bank</th>\n",
       "      <th>AccountType</th>\n",
       "      <th>...</th>\n",
       "      <th>ExcessSelected</th>\n",
       "      <th>CoverCategory</th>\n",
       "      <th>CoverType</th>\n",
       "      <th>CoverGroup</th>\n",
       "      <th>Section</th>\n",
       "      <th>Product</th>\n",
       "      <th>StatutoryClass</th>\n",
       "      <th>StatutoryRiskType</th>\n",
       "      <th>TotalPremium</th>\n",
       "      <th>TotalClaims</th>\n",
       "    </tr>\n",
       "  </thead>\n",
       "  <tbody>\n",
       "    <tr>\n",
       "      <th>0</th>\n",
       "      <td>145249</td>\n",
       "      <td>12827</td>\n",
       "      <td>2015-03-01 00:00:00</td>\n",
       "      <td>True</td>\n",
       "      <td></td>\n",
       "      <td>Close Corporation</td>\n",
       "      <td>Mr</td>\n",
       "      <td>English</td>\n",
       "      <td>First National Bank</td>\n",
       "      <td>Current account</td>\n",
       "      <td>...</td>\n",
       "      <td>Mobility - Windscreen</td>\n",
       "      <td>Windscreen</td>\n",
       "      <td>Windscreen</td>\n",
       "      <td>Comprehensive - Taxi</td>\n",
       "      <td>Motor Comprehensive</td>\n",
       "      <td>Mobility Metered Taxis: Monthly</td>\n",
       "      <td>Commercial</td>\n",
       "      <td>IFRS Constant</td>\n",
       "      <td>21.929825</td>\n",
       "      <td>0.0</td>\n",
       "    </tr>\n",
       "    <tr>\n",
       "      <th>1</th>\n",
       "      <td>145249</td>\n",
       "      <td>12827</td>\n",
       "      <td>2015-05-01 00:00:00</td>\n",
       "      <td>True</td>\n",
       "      <td></td>\n",
       "      <td>Close Corporation</td>\n",
       "      <td>Mr</td>\n",
       "      <td>English</td>\n",
       "      <td>First National Bank</td>\n",
       "      <td>Current account</td>\n",
       "      <td>...</td>\n",
       "      <td>Mobility - Windscreen</td>\n",
       "      <td>Windscreen</td>\n",
       "      <td>Windscreen</td>\n",
       "      <td>Comprehensive - Taxi</td>\n",
       "      <td>Motor Comprehensive</td>\n",
       "      <td>Mobility Metered Taxis: Monthly</td>\n",
       "      <td>Commercial</td>\n",
       "      <td>IFRS Constant</td>\n",
       "      <td>21.929825</td>\n",
       "      <td>0.0</td>\n",
       "    </tr>\n",
       "    <tr>\n",
       "      <th>2</th>\n",
       "      <td>145249</td>\n",
       "      <td>12827</td>\n",
       "      <td>2015-07-01 00:00:00</td>\n",
       "      <td>True</td>\n",
       "      <td></td>\n",
       "      <td>Close Corporation</td>\n",
       "      <td>Mr</td>\n",
       "      <td>English</td>\n",
       "      <td>First National Bank</td>\n",
       "      <td>Current account</td>\n",
       "      <td>...</td>\n",
       "      <td>Mobility - Windscreen</td>\n",
       "      <td>Windscreen</td>\n",
       "      <td>Windscreen</td>\n",
       "      <td>Comprehensive - Taxi</td>\n",
       "      <td>Motor Comprehensive</td>\n",
       "      <td>Mobility Metered Taxis: Monthly</td>\n",
       "      <td>Commercial</td>\n",
       "      <td>IFRS Constant</td>\n",
       "      <td>0.000000</td>\n",
       "      <td>0.0</td>\n",
       "    </tr>\n",
       "    <tr>\n",
       "      <th>3</th>\n",
       "      <td>145255</td>\n",
       "      <td>12827</td>\n",
       "      <td>2015-05-01 00:00:00</td>\n",
       "      <td>True</td>\n",
       "      <td></td>\n",
       "      <td>Close Corporation</td>\n",
       "      <td>Mr</td>\n",
       "      <td>English</td>\n",
       "      <td>First National Bank</td>\n",
       "      <td>Current account</td>\n",
       "      <td>...</td>\n",
       "      <td>Mobility - Metered Taxis - R2000</td>\n",
       "      <td>Own damage</td>\n",
       "      <td>Own Damage</td>\n",
       "      <td>Comprehensive - Taxi</td>\n",
       "      <td>Motor Comprehensive</td>\n",
       "      <td>Mobility Metered Taxis: Monthly</td>\n",
       "      <td>Commercial</td>\n",
       "      <td>IFRS Constant</td>\n",
       "      <td>512.848070</td>\n",
       "      <td>0.0</td>\n",
       "    </tr>\n",
       "    <tr>\n",
       "      <th>4</th>\n",
       "      <td>145255</td>\n",
       "      <td>12827</td>\n",
       "      <td>2015-07-01 00:00:00</td>\n",
       "      <td>True</td>\n",
       "      <td></td>\n",
       "      <td>Close Corporation</td>\n",
       "      <td>Mr</td>\n",
       "      <td>English</td>\n",
       "      <td>First National Bank</td>\n",
       "      <td>Current account</td>\n",
       "      <td>...</td>\n",
       "      <td>Mobility - Metered Taxis - R2000</td>\n",
       "      <td>Own damage</td>\n",
       "      <td>Own Damage</td>\n",
       "      <td>Comprehensive - Taxi</td>\n",
       "      <td>Motor Comprehensive</td>\n",
       "      <td>Mobility Metered Taxis: Monthly</td>\n",
       "      <td>Commercial</td>\n",
       "      <td>IFRS Constant</td>\n",
       "      <td>0.000000</td>\n",
       "      <td>0.0</td>\n",
       "    </tr>\n",
       "  </tbody>\n",
       "</table>\n",
       "<p>5 rows × 52 columns</p>\n",
       "</div>"
      ],
      "text/plain": [
       "   UnderwrittenCoverID  PolicyID     TransactionMonth  IsVATRegistered  \\\n",
       "0               145249     12827  2015-03-01 00:00:00             True   \n",
       "1               145249     12827  2015-05-01 00:00:00             True   \n",
       "2               145249     12827  2015-07-01 00:00:00             True   \n",
       "3               145255     12827  2015-05-01 00:00:00             True   \n",
       "4               145255     12827  2015-07-01 00:00:00             True   \n",
       "\n",
       "  Citizenship          LegalType Title Language                 Bank  \\\n",
       "0              Close Corporation    Mr  English  First National Bank   \n",
       "1              Close Corporation    Mr  English  First National Bank   \n",
       "2              Close Corporation    Mr  English  First National Bank   \n",
       "3              Close Corporation    Mr  English  First National Bank   \n",
       "4              Close Corporation    Mr  English  First National Bank   \n",
       "\n",
       "       AccountType  ...                    ExcessSelected CoverCategory  \\\n",
       "0  Current account  ...             Mobility - Windscreen    Windscreen   \n",
       "1  Current account  ...             Mobility - Windscreen    Windscreen   \n",
       "2  Current account  ...             Mobility - Windscreen    Windscreen   \n",
       "3  Current account  ...  Mobility - Metered Taxis - R2000    Own damage   \n",
       "4  Current account  ...  Mobility - Metered Taxis - R2000    Own damage   \n",
       "\n",
       "    CoverType            CoverGroup              Section  \\\n",
       "0  Windscreen  Comprehensive - Taxi  Motor Comprehensive   \n",
       "1  Windscreen  Comprehensive - Taxi  Motor Comprehensive   \n",
       "2  Windscreen  Comprehensive - Taxi  Motor Comprehensive   \n",
       "3  Own Damage  Comprehensive - Taxi  Motor Comprehensive   \n",
       "4  Own Damage  Comprehensive - Taxi  Motor Comprehensive   \n",
       "\n",
       "                           Product StatutoryClass StatutoryRiskType  \\\n",
       "0  Mobility Metered Taxis: Monthly     Commercial     IFRS Constant   \n",
       "1  Mobility Metered Taxis: Monthly     Commercial     IFRS Constant   \n",
       "2  Mobility Metered Taxis: Monthly     Commercial     IFRS Constant   \n",
       "3  Mobility Metered Taxis: Monthly     Commercial     IFRS Constant   \n",
       "4  Mobility Metered Taxis: Monthly     Commercial     IFRS Constant   \n",
       "\n",
       "   TotalPremium TotalClaims  \n",
       "0     21.929825         0.0  \n",
       "1     21.929825         0.0  \n",
       "2      0.000000         0.0  \n",
       "3    512.848070         0.0  \n",
       "4      0.000000         0.0  \n",
       "\n",
       "[5 rows x 52 columns]"
      ]
     },
     "execution_count": 6,
     "metadata": {},
     "output_type": "execute_result"
    }
   ],
   "source": [
    "# Display first few rows\n",
    "print(\"=== FIRST 5 ROWS ===\")\n",
    "df.head()"
   ]
  },
  {
   "cell_type": "code",
   "execution_count": 7,
   "id": "286c5d7d",
   "metadata": {},
   "outputs": [
    {
     "name": "stdout",
     "output_type": "stream",
     "text": [
      "=== LAST 5 ROWS ===\n"
     ]
    },
    {
     "data": {
      "application/vnd.microsoft.datawrangler.viewer.v0+json": {
       "columns": [
        {
         "name": "index",
         "rawType": "int64",
         "type": "integer"
        },
        {
         "name": "UnderwrittenCoverID",
         "rawType": "int64",
         "type": "integer"
        },
        {
         "name": "PolicyID",
         "rawType": "int64",
         "type": "integer"
        },
        {
         "name": "TransactionMonth",
         "rawType": "object",
         "type": "string"
        },
        {
         "name": "IsVATRegistered",
         "rawType": "bool",
         "type": "boolean"
        },
        {
         "name": "Citizenship",
         "rawType": "object",
         "type": "string"
        },
        {
         "name": "LegalType",
         "rawType": "object",
         "type": "string"
        },
        {
         "name": "Title",
         "rawType": "object",
         "type": "string"
        },
        {
         "name": "Language",
         "rawType": "object",
         "type": "string"
        },
        {
         "name": "Bank",
         "rawType": "object",
         "type": "string"
        },
        {
         "name": "AccountType",
         "rawType": "object",
         "type": "string"
        },
        {
         "name": "MaritalStatus",
         "rawType": "object",
         "type": "string"
        },
        {
         "name": "Gender",
         "rawType": "object",
         "type": "string"
        },
        {
         "name": "Country",
         "rawType": "object",
         "type": "string"
        },
        {
         "name": "Province",
         "rawType": "object",
         "type": "string"
        },
        {
         "name": "PostalCode",
         "rawType": "int64",
         "type": "integer"
        },
        {
         "name": "MainCrestaZone",
         "rawType": "object",
         "type": "string"
        },
        {
         "name": "SubCrestaZone",
         "rawType": "object",
         "type": "string"
        },
        {
         "name": "ItemType",
         "rawType": "object",
         "type": "string"
        },
        {
         "name": "mmcode",
         "rawType": "float64",
         "type": "float"
        },
        {
         "name": "VehicleType",
         "rawType": "object",
         "type": "string"
        },
        {
         "name": "RegistrationYear",
         "rawType": "int64",
         "type": "integer"
        },
        {
         "name": "make",
         "rawType": "object",
         "type": "string"
        },
        {
         "name": "Model",
         "rawType": "object",
         "type": "string"
        },
        {
         "name": "Cylinders",
         "rawType": "float64",
         "type": "float"
        },
        {
         "name": "cubiccapacity",
         "rawType": "float64",
         "type": "float"
        },
        {
         "name": "kilowatts",
         "rawType": "float64",
         "type": "float"
        },
        {
         "name": "bodytype",
         "rawType": "object",
         "type": "string"
        },
        {
         "name": "NumberOfDoors",
         "rawType": "float64",
         "type": "float"
        },
        {
         "name": "VehicleIntroDate",
         "rawType": "object",
         "type": "string"
        },
        {
         "name": "CustomValueEstimate",
         "rawType": "float64",
         "type": "float"
        },
        {
         "name": "AlarmImmobiliser",
         "rawType": "object",
         "type": "string"
        },
        {
         "name": "TrackingDevice",
         "rawType": "object",
         "type": "string"
        },
        {
         "name": "CapitalOutstanding",
         "rawType": "object",
         "type": "unknown"
        },
        {
         "name": "NewVehicle",
         "rawType": "object",
         "type": "string"
        },
        {
         "name": "WrittenOff",
         "rawType": "object",
         "type": "string"
        },
        {
         "name": "Rebuilt",
         "rawType": "object",
         "type": "string"
        },
        {
         "name": "Converted",
         "rawType": "object",
         "type": "string"
        },
        {
         "name": "CrossBorder",
         "rawType": "object",
         "type": "unknown"
        },
        {
         "name": "NumberOfVehiclesInFleet",
         "rawType": "float64",
         "type": "float"
        },
        {
         "name": "SumInsured",
         "rawType": "float64",
         "type": "float"
        },
        {
         "name": "TermFrequency",
         "rawType": "object",
         "type": "string"
        },
        {
         "name": "CalculatedPremiumPerTerm",
         "rawType": "float64",
         "type": "float"
        },
        {
         "name": "ExcessSelected",
         "rawType": "object",
         "type": "string"
        },
        {
         "name": "CoverCategory",
         "rawType": "object",
         "type": "string"
        },
        {
         "name": "CoverType",
         "rawType": "object",
         "type": "string"
        },
        {
         "name": "CoverGroup",
         "rawType": "object",
         "type": "string"
        },
        {
         "name": "Section",
         "rawType": "object",
         "type": "string"
        },
        {
         "name": "Product",
         "rawType": "object",
         "type": "string"
        },
        {
         "name": "StatutoryClass",
         "rawType": "object",
         "type": "string"
        },
        {
         "name": "StatutoryRiskType",
         "rawType": "object",
         "type": "string"
        },
        {
         "name": "TotalPremium",
         "rawType": "float64",
         "type": "float"
        },
        {
         "name": "TotalClaims",
         "rawType": "float64",
         "type": "float"
        }
       ],
       "ref": "e68b084a-6210-499c-9e3a-214aaea30f8d",
       "rows": [
        [
         "1000093",
         "31520",
         "389",
         "2015-04-01 00:00:00",
         "False",
         "ZW",
         "Individual",
         "Mr",
         "English",
         "ABSA Bank",
         "Savings account",
         "Single",
         "Male",
         "South Africa",
         "Western Cape",
         "7493",
         "Karoo 1 (Northeast of Cape Town)",
         "Northeast of CT",
         "Mobility - Motor",
         "4614100.0",
         "Passenger Vehicle",
         "2013",
         "B.A.W",
         "SASUKA 2.7i (16 SEAT)",
         "4.0",
         "2693.0",
         "110.0",
         "B/S",
         "4.0",
         "2013/01/01 12:00:00 AM",
         null,
         "Yes",
         "No",
         "0",
         "More than 6 months",
         "No",
         "No",
         "No",
         null,
         null,
         "500000.0",
         "Monthly",
         "395.8481",
         "No excess",
         "Third Party",
         "Third Party",
         "Comprehensive - Taxi",
         "Motor Comprehensive",
         "Mobility Commercial Cover: Monthly",
         "Commercial",
         "IFRS Constant",
         "347.235175438596",
         "0.0"
        ],
        [
         "1000094",
         "31520",
         "389",
         "2015-06-01 00:00:00",
         "False",
         "ZW",
         "Individual",
         "Mr",
         "English",
         "ABSA Bank",
         "Savings account",
         "Single",
         "Male",
         "South Africa",
         "Western Cape",
         "7493",
         "Karoo 1 (Northeast of Cape Town)",
         "Northeast of CT",
         "Mobility - Motor",
         "4614100.0",
         "Passenger Vehicle",
         "2013",
         "B.A.W",
         "SASUKA 2.7i (16 SEAT)",
         "4.0",
         "2693.0",
         "110.0",
         "B/S",
         "4.0",
         "2013/01/01 12:00:00 AM",
         null,
         "Yes",
         "No",
         "0",
         "More than 6 months",
         "No",
         "No",
         "No",
         null,
         null,
         "500000.0",
         "Monthly",
         "395.8481",
         "No excess",
         "Third Party",
         "Third Party",
         "Comprehensive - Taxi",
         "Motor Comprehensive",
         "Mobility Commercial Cover: Monthly",
         "Commercial",
         "IFRS Constant",
         "347.235175438596",
         "0.0"
        ],
        [
         "1000095",
         "31520",
         "389",
         "2015-08-01 00:00:00",
         "False",
         "ZW",
         "Individual",
         "Mr",
         "English",
         "ABSA Bank",
         "Savings account",
         "Single",
         "Male",
         "South Africa",
         "Western Cape",
         "7493",
         "Karoo 1 (Northeast of Cape Town)",
         "Northeast of CT",
         "Mobility - Motor",
         "4614100.0",
         "Passenger Vehicle",
         "2013",
         "B.A.W",
         "SASUKA 2.7i (16 SEAT)",
         "4.0",
         "2693.0",
         "110.0",
         "B/S",
         "4.0",
         "2013/01/01 12:00:00 AM",
         null,
         "Yes",
         "No",
         "0",
         "More than 6 months",
         "No",
         "No",
         "No",
         null,
         null,
         "500000.0",
         "Monthly",
         "395.8481",
         "No excess",
         "Third Party",
         "Third Party",
         "Comprehensive - Taxi",
         "Motor Comprehensive",
         "Mobility Commercial Cover: Monthly",
         "Commercial",
         "IFRS Constant",
         "347.235175438596",
         "0.0"
        ],
        [
         "1000096",
         "31519",
         "389",
         "2014-07-01 00:00:00",
         "False",
         "ZW",
         "Individual",
         "Mr",
         "English",
         "ABSA Bank",
         "Savings account",
         "Single",
         "Male",
         "South Africa",
         "Western Cape",
         "7493",
         "Karoo 1 (Northeast of Cape Town)",
         "Northeast of CT",
         "Mobility - Motor",
         "4614100.0",
         "Passenger Vehicle",
         "2013",
         "B.A.W",
         "SASUKA 2.7i (16 SEAT)",
         "4.0",
         "2693.0",
         "110.0",
         "B/S",
         "4.0",
         "2013/01/01 12:00:00 AM",
         null,
         "Yes",
         "No",
         "0",
         "More than 6 months",
         "No",
         "No",
         "No",
         null,
         null,
         "5000000.0",
         "Monthly",
         "2.6391",
         "No excess",
         "Passenger Liability",
         "Passenger Liability",
         "Comprehensive - Taxi",
         "Motor Comprehensive",
         "Mobility Commercial Cover: Monthly",
         "Commercial",
         "IFRS Constant",
         "2.315",
         "0.0"
        ],
        [
         "1000097",
         "31519",
         "389",
         "2015-02-01 00:00:00",
         "False",
         "ZW",
         "Individual",
         "Mr",
         "English",
         "ABSA Bank",
         "Savings account",
         "Single",
         "Male",
         "South Africa",
         "Western Cape",
         "7493",
         "Karoo 1 (Northeast of Cape Town)",
         "Northeast of CT",
         "Mobility - Motor",
         "4614100.0",
         "Passenger Vehicle",
         "2013",
         "B.A.W",
         "SASUKA 2.7i (16 SEAT)",
         "4.0",
         "2693.0",
         "110.0",
         "B/S",
         "4.0",
         "2013/01/01 12:00:00 AM",
         null,
         "Yes",
         "No",
         "0",
         "More than 6 months",
         "No",
         "No",
         "No",
         null,
         null,
         "5000000.0",
         "Monthly",
         "2.6391",
         "No excess",
         "Passenger Liability",
         "Passenger Liability",
         "Comprehensive - Taxi",
         "Motor Comprehensive",
         "Mobility Commercial Cover: Monthly",
         "Commercial",
         "IFRS Constant",
         "2.315",
         "0.0"
        ]
       ],
       "shape": {
        "columns": 52,
        "rows": 5
       }
      },
      "text/html": [
       "<div>\n",
       "<style scoped>\n",
       "    .dataframe tbody tr th:only-of-type {\n",
       "        vertical-align: middle;\n",
       "    }\n",
       "\n",
       "    .dataframe tbody tr th {\n",
       "        vertical-align: top;\n",
       "    }\n",
       "\n",
       "    .dataframe thead th {\n",
       "        text-align: right;\n",
       "    }\n",
       "</style>\n",
       "<table border=\"1\" class=\"dataframe\">\n",
       "  <thead>\n",
       "    <tr style=\"text-align: right;\">\n",
       "      <th></th>\n",
       "      <th>UnderwrittenCoverID</th>\n",
       "      <th>PolicyID</th>\n",
       "      <th>TransactionMonth</th>\n",
       "      <th>IsVATRegistered</th>\n",
       "      <th>Citizenship</th>\n",
       "      <th>LegalType</th>\n",
       "      <th>Title</th>\n",
       "      <th>Language</th>\n",
       "      <th>Bank</th>\n",
       "      <th>AccountType</th>\n",
       "      <th>...</th>\n",
       "      <th>ExcessSelected</th>\n",
       "      <th>CoverCategory</th>\n",
       "      <th>CoverType</th>\n",
       "      <th>CoverGroup</th>\n",
       "      <th>Section</th>\n",
       "      <th>Product</th>\n",
       "      <th>StatutoryClass</th>\n",
       "      <th>StatutoryRiskType</th>\n",
       "      <th>TotalPremium</th>\n",
       "      <th>TotalClaims</th>\n",
       "    </tr>\n",
       "  </thead>\n",
       "  <tbody>\n",
       "    <tr>\n",
       "      <th>1000093</th>\n",
       "      <td>31520</td>\n",
       "      <td>389</td>\n",
       "      <td>2015-04-01 00:00:00</td>\n",
       "      <td>False</td>\n",
       "      <td>ZW</td>\n",
       "      <td>Individual</td>\n",
       "      <td>Mr</td>\n",
       "      <td>English</td>\n",
       "      <td>ABSA Bank</td>\n",
       "      <td>Savings account</td>\n",
       "      <td>...</td>\n",
       "      <td>No excess</td>\n",
       "      <td>Third Party</td>\n",
       "      <td>Third Party</td>\n",
       "      <td>Comprehensive - Taxi</td>\n",
       "      <td>Motor Comprehensive</td>\n",
       "      <td>Mobility Commercial Cover: Monthly</td>\n",
       "      <td>Commercial</td>\n",
       "      <td>IFRS Constant</td>\n",
       "      <td>347.235175</td>\n",
       "      <td>0.0</td>\n",
       "    </tr>\n",
       "    <tr>\n",
       "      <th>1000094</th>\n",
       "      <td>31520</td>\n",
       "      <td>389</td>\n",
       "      <td>2015-06-01 00:00:00</td>\n",
       "      <td>False</td>\n",
       "      <td>ZW</td>\n",
       "      <td>Individual</td>\n",
       "      <td>Mr</td>\n",
       "      <td>English</td>\n",
       "      <td>ABSA Bank</td>\n",
       "      <td>Savings account</td>\n",
       "      <td>...</td>\n",
       "      <td>No excess</td>\n",
       "      <td>Third Party</td>\n",
       "      <td>Third Party</td>\n",
       "      <td>Comprehensive - Taxi</td>\n",
       "      <td>Motor Comprehensive</td>\n",
       "      <td>Mobility Commercial Cover: Monthly</td>\n",
       "      <td>Commercial</td>\n",
       "      <td>IFRS Constant</td>\n",
       "      <td>347.235175</td>\n",
       "      <td>0.0</td>\n",
       "    </tr>\n",
       "    <tr>\n",
       "      <th>1000095</th>\n",
       "      <td>31520</td>\n",
       "      <td>389</td>\n",
       "      <td>2015-08-01 00:00:00</td>\n",
       "      <td>False</td>\n",
       "      <td>ZW</td>\n",
       "      <td>Individual</td>\n",
       "      <td>Mr</td>\n",
       "      <td>English</td>\n",
       "      <td>ABSA Bank</td>\n",
       "      <td>Savings account</td>\n",
       "      <td>...</td>\n",
       "      <td>No excess</td>\n",
       "      <td>Third Party</td>\n",
       "      <td>Third Party</td>\n",
       "      <td>Comprehensive - Taxi</td>\n",
       "      <td>Motor Comprehensive</td>\n",
       "      <td>Mobility Commercial Cover: Monthly</td>\n",
       "      <td>Commercial</td>\n",
       "      <td>IFRS Constant</td>\n",
       "      <td>347.235175</td>\n",
       "      <td>0.0</td>\n",
       "    </tr>\n",
       "    <tr>\n",
       "      <th>1000096</th>\n",
       "      <td>31519</td>\n",
       "      <td>389</td>\n",
       "      <td>2014-07-01 00:00:00</td>\n",
       "      <td>False</td>\n",
       "      <td>ZW</td>\n",
       "      <td>Individual</td>\n",
       "      <td>Mr</td>\n",
       "      <td>English</td>\n",
       "      <td>ABSA Bank</td>\n",
       "      <td>Savings account</td>\n",
       "      <td>...</td>\n",
       "      <td>No excess</td>\n",
       "      <td>Passenger Liability</td>\n",
       "      <td>Passenger Liability</td>\n",
       "      <td>Comprehensive - Taxi</td>\n",
       "      <td>Motor Comprehensive</td>\n",
       "      <td>Mobility Commercial Cover: Monthly</td>\n",
       "      <td>Commercial</td>\n",
       "      <td>IFRS Constant</td>\n",
       "      <td>2.315000</td>\n",
       "      <td>0.0</td>\n",
       "    </tr>\n",
       "    <tr>\n",
       "      <th>1000097</th>\n",
       "      <td>31519</td>\n",
       "      <td>389</td>\n",
       "      <td>2015-02-01 00:00:00</td>\n",
       "      <td>False</td>\n",
       "      <td>ZW</td>\n",
       "      <td>Individual</td>\n",
       "      <td>Mr</td>\n",
       "      <td>English</td>\n",
       "      <td>ABSA Bank</td>\n",
       "      <td>Savings account</td>\n",
       "      <td>...</td>\n",
       "      <td>No excess</td>\n",
       "      <td>Passenger Liability</td>\n",
       "      <td>Passenger Liability</td>\n",
       "      <td>Comprehensive - Taxi</td>\n",
       "      <td>Motor Comprehensive</td>\n",
       "      <td>Mobility Commercial Cover: Monthly</td>\n",
       "      <td>Commercial</td>\n",
       "      <td>IFRS Constant</td>\n",
       "      <td>2.315000</td>\n",
       "      <td>0.0</td>\n",
       "    </tr>\n",
       "  </tbody>\n",
       "</table>\n",
       "<p>5 rows × 52 columns</p>\n",
       "</div>"
      ],
      "text/plain": [
       "         UnderwrittenCoverID  PolicyID     TransactionMonth  IsVATRegistered  \\\n",
       "1000093                31520       389  2015-04-01 00:00:00            False   \n",
       "1000094                31520       389  2015-06-01 00:00:00            False   \n",
       "1000095                31520       389  2015-08-01 00:00:00            False   \n",
       "1000096                31519       389  2014-07-01 00:00:00            False   \n",
       "1000097                31519       389  2015-02-01 00:00:00            False   \n",
       "\n",
       "        Citizenship   LegalType Title Language       Bank      AccountType  \\\n",
       "1000093          ZW  Individual    Mr  English  ABSA Bank  Savings account   \n",
       "1000094          ZW  Individual    Mr  English  ABSA Bank  Savings account   \n",
       "1000095          ZW  Individual    Mr  English  ABSA Bank  Savings account   \n",
       "1000096          ZW  Individual    Mr  English  ABSA Bank  Savings account   \n",
       "1000097          ZW  Individual    Mr  English  ABSA Bank  Savings account   \n",
       "\n",
       "         ... ExcessSelected        CoverCategory            CoverType  \\\n",
       "1000093  ...      No excess          Third Party          Third Party   \n",
       "1000094  ...      No excess          Third Party          Third Party   \n",
       "1000095  ...      No excess          Third Party          Third Party   \n",
       "1000096  ...      No excess  Passenger Liability  Passenger Liability   \n",
       "1000097  ...      No excess  Passenger Liability  Passenger Liability   \n",
       "\n",
       "                   CoverGroup              Section  \\\n",
       "1000093  Comprehensive - Taxi  Motor Comprehensive   \n",
       "1000094  Comprehensive - Taxi  Motor Comprehensive   \n",
       "1000095  Comprehensive - Taxi  Motor Comprehensive   \n",
       "1000096  Comprehensive - Taxi  Motor Comprehensive   \n",
       "1000097  Comprehensive - Taxi  Motor Comprehensive   \n",
       "\n",
       "                                    Product StatutoryClass StatutoryRiskType  \\\n",
       "1000093  Mobility Commercial Cover: Monthly     Commercial     IFRS Constant   \n",
       "1000094  Mobility Commercial Cover: Monthly     Commercial     IFRS Constant   \n",
       "1000095  Mobility Commercial Cover: Monthly     Commercial     IFRS Constant   \n",
       "1000096  Mobility Commercial Cover: Monthly     Commercial     IFRS Constant   \n",
       "1000097  Mobility Commercial Cover: Monthly     Commercial     IFRS Constant   \n",
       "\n",
       "         TotalPremium TotalClaims  \n",
       "1000093    347.235175         0.0  \n",
       "1000094    347.235175         0.0  \n",
       "1000095    347.235175         0.0  \n",
       "1000096      2.315000         0.0  \n",
       "1000097      2.315000         0.0  \n",
       "\n",
       "[5 rows x 52 columns]"
      ]
     },
     "execution_count": 7,
     "metadata": {},
     "output_type": "execute_result"
    }
   ],
   "source": [
    "# Display last few rows to check data consistency\n",
    "print(\"=== LAST 5 ROWS ===\")\n",
    "df.tail()"
   ]
  },
  {
   "cell_type": "code",
   "execution_count": 8,
   "id": "acd953dd",
   "metadata": {},
   "outputs": [
    {
     "name": "stdout",
     "output_type": "stream",
     "text": [
      "=== DATA TYPES ANALYSIS ===\n",
      "                                            Column Data Type  Non-Null Count  Null Count  Null Percentage\n",
      "UnderwrittenCoverID            UnderwrittenCoverID     int64         1000098           0             0.00\n",
      "PolicyID                                  PolicyID     int64         1000098           0             0.00\n",
      "TransactionMonth                  TransactionMonth    object         1000098           0             0.00\n",
      "IsVATRegistered                    IsVATRegistered      bool         1000098           0             0.00\n",
      "Citizenship                            Citizenship    object         1000098           0             0.00\n",
      "LegalType                                LegalType    object         1000098           0             0.00\n",
      "Title                                        Title    object         1000098           0             0.00\n",
      "Language                                  Language    object         1000098           0             0.00\n",
      "Bank                                          Bank    object          854137      145961            14.59\n",
      "AccountType                            AccountType    object          959866       40232             4.02\n",
      "MaritalStatus                        MaritalStatus    object          991839        8259             0.83\n",
      "Gender                                      Gender    object          990562        9536             0.95\n",
      "Country                                    Country    object         1000098           0             0.00\n",
      "Province                                  Province    object         1000098           0             0.00\n",
      "PostalCode                              PostalCode     int64         1000098           0             0.00\n",
      "MainCrestaZone                      MainCrestaZone    object         1000098           0             0.00\n",
      "SubCrestaZone                        SubCrestaZone    object         1000098           0             0.00\n",
      "ItemType                                  ItemType    object         1000098           0             0.00\n",
      "mmcode                                      mmcode   float64          999546         552             0.06\n",
      "VehicleType                            VehicleType    object          999546         552             0.06\n",
      "RegistrationYear                  RegistrationYear     int64         1000098           0             0.00\n",
      "make                                          make    object          999546         552             0.06\n",
      "Model                                        Model    object          999546         552             0.06\n",
      "Cylinders                                Cylinders   float64          999546         552             0.06\n",
      "cubiccapacity                        cubiccapacity   float64          999546         552             0.06\n",
      "kilowatts                                kilowatts   float64          999546         552             0.06\n",
      "bodytype                                  bodytype    object          999546         552             0.06\n",
      "NumberOfDoors                        NumberOfDoors   float64          999546         552             0.06\n",
      "VehicleIntroDate                  VehicleIntroDate    object          999546         552             0.06\n",
      "CustomValueEstimate            CustomValueEstimate   float64          220456      779642            77.96\n",
      "AlarmImmobiliser                  AlarmImmobiliser    object         1000098           0             0.00\n",
      "TrackingDevice                      TrackingDevice    object         1000098           0             0.00\n",
      "CapitalOutstanding              CapitalOutstanding    object         1000096           2             0.00\n",
      "NewVehicle                              NewVehicle    object          846803      153295            15.33\n",
      "WrittenOff                              WrittenOff    object          358197      641901            64.18\n",
      "Rebuilt                                    Rebuilt    object          358197      641901            64.18\n",
      "Converted                                Converted    object          358197      641901            64.18\n",
      "CrossBorder                            CrossBorder    object             698      999400            99.93\n",
      "NumberOfVehiclesInFleet    NumberOfVehiclesInFleet   float64               0     1000098           100.00\n",
      "SumInsured                              SumInsured   float64         1000098           0             0.00\n",
      "TermFrequency                        TermFrequency    object         1000098           0             0.00\n",
      "CalculatedPremiumPerTerm  CalculatedPremiumPerTerm   float64         1000098           0             0.00\n",
      "ExcessSelected                      ExcessSelected    object         1000098           0             0.00\n",
      "CoverCategory                        CoverCategory    object         1000098           0             0.00\n",
      "CoverType                                CoverType    object         1000098           0             0.00\n",
      "CoverGroup                              CoverGroup    object         1000098           0             0.00\n",
      "Section                                    Section    object         1000098           0             0.00\n",
      "Product                                    Product    object         1000098           0             0.00\n",
      "StatutoryClass                      StatutoryClass    object         1000098           0             0.00\n",
      "StatutoryRiskType                StatutoryRiskType    object         1000098           0             0.00\n",
      "TotalPremium                          TotalPremium   float64         1000098           0             0.00\n",
      "TotalClaims                            TotalClaims   float64         1000098           0             0.00\n"
     ]
    }
   ],
   "source": [
    "### 2.2 Data Structure Review\n",
    "\n",
    "# Check data types and suggest corrections\n",
    "print(\"=== DATA TYPES ANALYSIS ===\")\n",
    "dtype_df = pd.DataFrame({\n",
    "    'Column': df.columns,\n",
    "    'Data Type': df.dtypes,\n",
    "    'Non-Null Count': df.count(),\n",
    "    'Null Count': df.isnull().sum(),\n",
    "    'Null Percentage': (df.isnull().sum() / len(df) * 100).round(2)\n",
    "})\n",
    "\n",
    "print(dtype_df.to_string())"
   ]
  },
  {
   "cell_type": "code",
   "execution_count": 9,
   "id": "84331db0",
   "metadata": {},
   "outputs": [
    {
     "name": "stdout",
     "output_type": "stream",
     "text": [
      "TransactionMonth converted to datetime\n"
     ]
    }
   ],
   "source": [
    "# Convert TransactionMonth to datetime \n",
    "if 'TransactionMonth' in df.columns:\n",
    "    df['TransactionMonth'] = pd.to_datetime(df['TransactionMonth'])\n",
    "    print(\"TransactionMonth converted to datetime\")"
   ]
  },
  {
   "cell_type": "code",
   "execution_count": 10,
   "id": "24329878",
   "metadata": {},
   "outputs": [
    {
     "name": "stdout",
     "output_type": "stream",
     "text": [
      "Time-based features created\n"
     ]
    }
   ],
   "source": [
    "# Create additional time-based features\n",
    "if 'TransactionMonth' in df.columns:\n",
    "    df['Year'] = df['TransactionMonth'].dt.year\n",
    "    df['Month'] = df['TransactionMonth'].dt.month\n",
    "    df['Quarter'] = df['TransactionMonth'].dt.quarter\n",
    "    print(\"Time-based features created\")"
   ]
  },
  {
   "cell_type": "code",
   "execution_count": 6,
   "id": "1e31cd8a",
   "metadata": {},
   "outputs": [
    {
     "name": "stdout",
     "output_type": "stream",
     "text": [
      "\n",
      "Duplicates: 0\n"
     ]
    }
   ],
   "source": [
    "# Check for duplicates\n",
    "duplicates = df.duplicated().sum()\n",
    "print(\"\\nDuplicates:\", duplicates)"
   ]
  },
  {
   "cell_type": "code",
   "execution_count": 11,
   "id": "9e7b7908",
   "metadata": {},
   "outputs": [
    {
     "name": "stdout",
     "output_type": "stream",
     "text": [
      "=== MISSING VALUES SUMMARY ===\n",
      "                                          Column  Missing_Count  Missing_Percentage Data_Type\n",
      "NumberOfVehiclesInFleet  NumberOfVehiclesInFleet        1000098              100.00   float64\n",
      "CrossBorder                          CrossBorder         999400               99.93    object\n",
      "CustomValueEstimate          CustomValueEstimate         779642               77.96   float64\n",
      "Converted                              Converted         641901               64.18    object\n",
      "Rebuilt                                  Rebuilt         641901               64.18    object\n",
      "WrittenOff                            WrittenOff         641901               64.18    object\n",
      "NewVehicle                            NewVehicle         153295               15.33    object\n",
      "Bank                                        Bank         145961               14.59    object\n",
      "AccountType                          AccountType          40232                4.02    object\n",
      "Gender                                    Gender           9536                0.95    object\n",
      "MaritalStatus                      MaritalStatus           8259                0.83    object\n",
      "Cylinders                              Cylinders            552                0.06   float64\n",
      "cubiccapacity                      cubiccapacity            552                0.06   float64\n",
      "kilowatts                              kilowatts            552                0.06   float64\n",
      "NumberOfDoors                      NumberOfDoors            552                0.06   float64\n",
      "VehicleIntroDate                VehicleIntroDate            552                0.06    object\n",
      "Model                                      Model            552                0.06    object\n",
      "make                                        make            552                0.06    object\n",
      "VehicleType                          VehicleType            552                0.06    object\n",
      "mmcode                                    mmcode            552                0.06   float64\n",
      "bodytype                                bodytype            552                0.06    object\n",
      "CapitalOutstanding            CapitalOutstanding              2                0.00    object\n"
     ]
    }
   ],
   "source": [
    "## 3. Data Quality Assessment\n",
    "\n",
    "### 3.1 Missing Values Analysis\n",
    "\n",
    "missing_data = pd.DataFrame({\n",
    "    'Column': df.columns,\n",
    "    'Missing_Count': df.isnull().sum(),\n",
    "    'Missing_Percentage': (df.isnull().sum() / len(df) * 100).round(2),\n",
    "    'Data_Type': df.dtypes\n",
    "})\n",
    "\n",
    "missing_data = missing_data[missing_data['Missing_Count'] > 0].sort_values('Missing_Percentage', ascending=False)\n",
    "\n",
    "print(\"=== MISSING VALUES SUMMARY ===\")\n",
    "if len(missing_data) > 0:\n",
    "    print(missing_data.to_string())\n",
    "else:\n",
    "    print(\"No missing values found!\")"
   ]
  },
  {
   "cell_type": "code",
   "execution_count": 13,
   "id": "95729303",
   "metadata": {},
   "outputs": [
    {
     "name": "stdout",
     "output_type": "stream",
     "text": [
      "\n",
      "=== FINANCIAL VARIABLES SUMMARY (IN SOUTH AFRICAN RAND - ZAR) ===\n"
     ]
    },
    {
     "data": {
      "application/vnd.microsoft.datawrangler.viewer.v0+json": {
       "columns": [
        {
         "name": "index",
         "rawType": "object",
         "type": "string"
        },
        {
         "name": "TotalPremium",
         "rawType": "float64",
         "type": "float"
        },
        {
         "name": "TotalClaims",
         "rawType": "float64",
         "type": "float"
        },
        {
         "name": "SumInsured",
         "rawType": "float64",
         "type": "float"
        },
        {
         "name": "CalculatedPremiumPerTerm",
         "rawType": "float64",
         "type": "float"
        },
        {
         "name": "CustomValueEstimate",
         "rawType": "float64",
         "type": "float"
        }
       ],
       "ref": "64305e79-6a5d-46a1-b805-693e50e1f281",
       "rows": [
        [
         "count",
         "1000098.0",
         "1000098.0",
         "1000098.0",
         "1000098.0",
         "220456.0"
        ],
        [
         "mean",
         "61.90549595782839",
         "64.86118977410388",
         "604172.732588964",
         "117.87569130125243",
         "225531.1299417571"
        ],
        [
         "std",
         "230.28451275764218",
         "2384.07469450152",
         "1508331.837996336",
         "399.7017210631286",
         "564515.7498478263"
        ],
        [
         "min",
         "-782.576754385965",
         "-12002.412280701796",
         "0.01",
         "0.0",
         "20000.0"
        ],
        [
         "25%",
         "0.0",
         "0.0",
         "5000.0",
         "3.2248",
         "135000.0"
        ],
        [
         "50%",
         "2.178333333333",
         "0.0",
         "7500.0",
         "8.4369",
         "220000.0"
        ],
        [
         "75%",
         "21.929824561403",
         "0.0",
         "250000.0",
         "90.0",
         "280000.0"
        ],
        [
         "max",
         "65282.6034210526",
         "393092.105263158",
         "12636200.0",
         "74422.1679",
         "26550000.0"
        ],
        [
         "nonzero_count",
         "618464.0",
         "2793.0",
         "1000098.0",
         "1000091.0",
         "1000098.0"
        ],
        [
         "loss_ratio",
         "1.0477452570332202",
         "1.0477452570332202",
         "1.0477452570332202",
         "1.0477452570332202",
         "1.0477452570332202"
        ]
       ],
       "shape": {
        "columns": 5,
        "rows": 10
       }
      },
      "text/html": [
       "<div>\n",
       "<style scoped>\n",
       "    .dataframe tbody tr th:only-of-type {\n",
       "        vertical-align: middle;\n",
       "    }\n",
       "\n",
       "    .dataframe tbody tr th {\n",
       "        vertical-align: top;\n",
       "    }\n",
       "\n",
       "    .dataframe thead th {\n",
       "        text-align: right;\n",
       "    }\n",
       "</style>\n",
       "<table border=\"1\" class=\"dataframe\">\n",
       "  <thead>\n",
       "    <tr style=\"text-align: right;\">\n",
       "      <th></th>\n",
       "      <th>TotalPremium</th>\n",
       "      <th>TotalClaims</th>\n",
       "      <th>SumInsured</th>\n",
       "      <th>CalculatedPremiumPerTerm</th>\n",
       "      <th>CustomValueEstimate</th>\n",
       "    </tr>\n",
       "  </thead>\n",
       "  <tbody>\n",
       "    <tr>\n",
       "      <th>count</th>\n",
       "      <td>R1,000,098.00</td>\n",
       "      <td>R1,000,098.00</td>\n",
       "      <td>R1,000,098.00</td>\n",
       "      <td>R1,000,098.00</td>\n",
       "      <td>R220,456.00</td>\n",
       "    </tr>\n",
       "    <tr>\n",
       "      <th>mean</th>\n",
       "      <td>R61.91</td>\n",
       "      <td>R64.86</td>\n",
       "      <td>R604,172.73</td>\n",
       "      <td>R117.88</td>\n",
       "      <td>R225,531.13</td>\n",
       "    </tr>\n",
       "    <tr>\n",
       "      <th>std</th>\n",
       "      <td>R230.28</td>\n",
       "      <td>R2,384.07</td>\n",
       "      <td>R1,508,331.84</td>\n",
       "      <td>R399.70</td>\n",
       "      <td>R564,515.75</td>\n",
       "    </tr>\n",
       "    <tr>\n",
       "      <th>min</th>\n",
       "      <td>R-782.58</td>\n",
       "      <td>R-12,002.41</td>\n",
       "      <td>R0.01</td>\n",
       "      <td>R0.00</td>\n",
       "      <td>R20,000.00</td>\n",
       "    </tr>\n",
       "    <tr>\n",
       "      <th>25%</th>\n",
       "      <td>R0.00</td>\n",
       "      <td>R0.00</td>\n",
       "      <td>R5,000.00</td>\n",
       "      <td>R3.22</td>\n",
       "      <td>R135,000.00</td>\n",
       "    </tr>\n",
       "    <tr>\n",
       "      <th>50%</th>\n",
       "      <td>R2.18</td>\n",
       "      <td>R0.00</td>\n",
       "      <td>R7,500.00</td>\n",
       "      <td>R8.44</td>\n",
       "      <td>R220,000.00</td>\n",
       "    </tr>\n",
       "    <tr>\n",
       "      <th>75%</th>\n",
       "      <td>R21.93</td>\n",
       "      <td>R0.00</td>\n",
       "      <td>R250,000.00</td>\n",
       "      <td>R90.00</td>\n",
       "      <td>R280,000.00</td>\n",
       "    </tr>\n",
       "    <tr>\n",
       "      <th>max</th>\n",
       "      <td>R65,282.60</td>\n",
       "      <td>R393,092.11</td>\n",
       "      <td>R12,636,200.00</td>\n",
       "      <td>R74,422.17</td>\n",
       "      <td>R26,550,000.00</td>\n",
       "    </tr>\n",
       "    <tr>\n",
       "      <th>nonzero_count</th>\n",
       "      <td>R618,464.00</td>\n",
       "      <td>R2,793.00</td>\n",
       "      <td>R1,000,098.00</td>\n",
       "      <td>R1,000,091.00</td>\n",
       "      <td>R1,000,098.00</td>\n",
       "    </tr>\n",
       "    <tr>\n",
       "      <th>loss_ratio</th>\n",
       "      <td>R1.05</td>\n",
       "      <td>R1.05</td>\n",
       "      <td>R1.05</td>\n",
       "      <td>R1.05</td>\n",
       "      <td>R1.05</td>\n",
       "    </tr>\n",
       "  </tbody>\n",
       "</table>\n",
       "</div>"
      ],
      "text/plain": [
       "               TotalPremium   TotalClaims     SumInsured  \\\n",
       "count         R1,000,098.00 R1,000,098.00  R1,000,098.00   \n",
       "mean                 R61.91        R64.86    R604,172.73   \n",
       "std                 R230.28     R2,384.07  R1,508,331.84   \n",
       "min                R-782.58   R-12,002.41          R0.01   \n",
       "25%                   R0.00         R0.00      R5,000.00   \n",
       "50%                   R2.18         R0.00      R7,500.00   \n",
       "75%                  R21.93         R0.00    R250,000.00   \n",
       "max              R65,282.60   R393,092.11 R12,636,200.00   \n",
       "nonzero_count   R618,464.00     R2,793.00  R1,000,098.00   \n",
       "loss_ratio            R1.05         R1.05          R1.05   \n",
       "\n",
       "               CalculatedPremiumPerTerm  CustomValueEstimate  \n",
       "count                     R1,000,098.00          R220,456.00  \n",
       "mean                            R117.88          R225,531.13  \n",
       "std                             R399.70          R564,515.75  \n",
       "min                               R0.00           R20,000.00  \n",
       "25%                               R3.22          R135,000.00  \n",
       "50%                               R8.44          R220,000.00  \n",
       "75%                              R90.00          R280,000.00  \n",
       "max                          R74,422.17       R26,550,000.00  \n",
       "nonzero_count             R1,000,091.00        R1,000,098.00  \n",
       "loss_ratio                        R1.05                R1.05  "
      ]
     },
     "metadata": {},
     "output_type": "display_data"
    },
    {
     "name": "stdout",
     "output_type": "stream",
     "text": [
      "\n",
      "=== KEY INSIGHTS ===\n",
      "1. Overall Loss Ratio: 104.8%\n",
      "2. 2,793.0 policies had claims\n",
      "3. Maximum Claim Amount: R393,092.11\n",
      "4. 22.0% of policies have custom values\n"
     ]
    }
   ],
   "source": [
    "# 3.2 Financial Variables Summary\n",
    "\n",
    "# Focus on key financial variables\n",
    "financial_cols = ['TotalPremium', 'TotalClaims', 'SumInsured', \n",
    "                 'CalculatedPremiumPerTerm', 'CustomValueEstimate']\n",
    "available_financial_cols = [col for col in financial_cols if col in df.columns]\n",
    "\n",
    "if available_financial_cols:\n",
    "    print(\"\\n=== FINANCIAL VARIABLES SUMMARY (IN SOUTH AFRICAN RAND - ZAR) ===\")\n",
    "    \n",
    "    # Configure pandas to show full numbers and Rand currency\n",
    "    pd.set_option('display.float_format', lambda x: 'R{:,.2f}'.format(x))\n",
    "    \n",
    "    # Generate summary statistics\n",
    "    financial_summary = df[available_financial_cols].describe()\n",
    "    \n",
    "    # Add insurance-specific metrics\n",
    "    financial_summary.loc['nonzero_count'] = df[available_financial_cols].astype(bool).sum()\n",
    "    financial_summary.loc['loss_ratio'] = df['TotalClaims'].sum() / df['TotalPremium'].sum()\n",
    "    \n",
    "    # Display the enhanced summary\n",
    "    display(financial_summary)\n",
    "    \n",
    "    # Reset formatting\n",
    "    pd.reset_option('display.float_format')\n",
    "    \n",
    "    # Print key insights\n",
    "    print(\"\\n=== KEY INSIGHTS ===\")\n",
    "    print(f\"1. Overall Loss Ratio: {financial_summary.loc['loss_ratio'].values[0]:.1%}\")\n",
    "    print(f\"2. {financial_summary.loc['nonzero_count']['TotalClaims']:,} policies had claims\")\n",
    "    print(f\"3. Maximum Claim Amount: R{financial_summary['TotalClaims']['max']:,.2f}\")\n",
    "    print(f\"4. {financial_summary.loc['count']['CustomValueEstimate']/len(df):.1%} of policies have custom values\")\n",
    "    \n",
    "else:\n",
    "    print(\"Warning: Financial columns not found with expected names\")\n",
    "    print(\"Available columns:\", [col for col in df.columns if 'premium' in col.lower() or 'claim' in col.lower()])"
   ]
  },
  {
   "cell_type": "code",
   "execution_count": 14,
   "id": "f9083913",
   "metadata": {},
   "outputs": [
    {
     "name": "stdout",
     "output_type": "stream",
     "text": [
      "Total Premium: R61,911,562.70\n",
      "Total Claims: R64,867,546.17\n",
      "Loss Ratio: 104.8%\n",
      "\n",
      "Negative Premiums: 288 policies\n",
      "Zero Premiums: 381634 policies\n",
      "Negative Claims: 5 policies\n"
     ]
    }
   ],
   "source": [
    "# Check raw totals first\n",
    "total_premium = df['TotalPremium'].sum()\n",
    "total_claims = df['TotalClaims'].sum()\n",
    "print(f\"Total Premium: R{total_premium:,.2f}\")\n",
    "print(f\"Total Claims: R{total_claims:,.2f}\")\n",
    "print(f\"Loss Ratio: {total_claims/total_premium:.1%}\")\n",
    "\n",
    "# Check for data anomalies\n",
    "print(f\"\\nNegative Premiums: {len(df[df['TotalPremium'] < 0])} policies\")\n",
    "print(f\"Zero Premiums: {len(df[df['TotalPremium'] == 0])} policies\")\n",
    "print(f\"Negative Claims: {len(df[df['TotalClaims'] < 0])} policies\")"
   ]
  },
  {
   "cell_type": "code",
   "execution_count": null,
   "id": "594266de",
   "metadata": {},
   "outputs": [
    {
     "name": "stderr",
     "output_type": "stream",
     "text": [
      "C:\\Users\\Antifragile\\AppData\\Local\\Temp\\ipykernel_3644\\459072259.py:3: RuntimeWarning: invalid value encountered in scalar divide\n",
      "  lambda x: x['TotalClaims'].sum() / x['TotalPremium'].sum()\n",
      "C:\\Users\\Antifragile\\AppData\\Local\\Temp\\ipykernel_3644\\459072259.py:3: RuntimeWarning: divide by zero encountered in scalar divide\n",
      "  lambda x: x['TotalClaims'].sum() / x['TotalPremium'].sum()\n"
     ]
    },
    {
     "name": "stdout",
     "output_type": "stream",
     "text": [
      "Worst Performing Segments:\n",
      "Province       VehicleType        CoverType                                          \n",
      "KwaZulu-Natal  Passenger Vehicle  Factory Fitted Sound and Other Electronic Equipment           inf\n",
      "Gauteng        Passenger Vehicle  Factory Fitted Sound and Other Electronic Equipment           inf\n",
      "Western Cape   Bus                Windscreen                                             176.439677\n",
      "Northern Cape  Heavy Commercial   Windscreen                                              23.900618\n",
      "Eastern Cape   Medium Commercial  Windscreen                                              13.153885\n",
      "Gauteng        Light Commercial   Windscreen                                              11.952979\n",
      "Mpumalanga     Heavy Commercial   Windscreen                                               8.937975\n",
      "Western Cape   Heavy Commercial   Third Party                                              6.373683\n",
      "Gauteng        Heavy Commercial   Windscreen                                               4.514868\n",
      "Mpumalanga     Medium Commercial  Windscreen                                               4.480966\n",
      "dtype: float64\n"
     ]
    },
    {
     "name": "stderr",
     "output_type": "stream",
     "text": [
      "C:\\Users\\Antifragile\\AppData\\Local\\Temp\\ipykernel_3644\\459072259.py:2: DeprecationWarning: DataFrameGroupBy.apply operated on the grouping columns. This behavior is deprecated, and in a future version of pandas the grouping columns will be excluded from the operation. Either pass `include_groups=False` to exclude the groupings or explicitly select the grouping columns after groupby to silence this warning.\n",
      "  loss_by_segment = df.groupby(['Province', 'VehicleType', 'CoverType']).apply(\n"
     ]
    }
   ],
   "source": [
    "# Top 10 loss-making segments\n",
    "loss_by_segment = df.groupby(['Province', 'VehicleType', 'CoverType']).apply(\n",
    "    lambda x: x['TotalClaims'].sum() / x['TotalPremium'].sum()\n",
    ").sort_values(ascending=False)\n",
    "\n",
    "print(\"Worst Performing Segments:\")\n",
    "print(loss_by_segment.head(10))"
   ]
  },
  {
   "cell_type": "code",
   "execution_count": 40,
   "id": "62cedab4",
   "metadata": {},
   "outputs": [
    {
     "name": "stdout",
     "output_type": "stream",
     "text": [
      "\n",
      "Dangerous Policies: 3017\n",
      "      PolicyID  TotalPremium   TotalClaims        VehicleType       Province\n",
      "203       4044      0.000000   2294.096491  Passenger Vehicle        Gauteng\n",
      "284       7174     21.929825   2040.473684  Passenger Vehicle        Gauteng\n",
      "1560      8672   1213.889211  46492.211754  Passenger Vehicle        Gauteng\n",
      "1779       283    645.017456  26516.859649  Medium Commercial  KwaZulu-Natal\n",
      "1943      8672     74.561404   6140.350877  Passenger Vehicle        Gauteng\n"
     ]
    }
   ],
   "source": [
    "# Policies with claims > 2x their premium\n",
    "outliers = df[df['TotalClaims'] > 2 * df['TotalPremium']]\n",
    "print(f\"\\nDangerous Policies: {len(outliers)}\")\n",
    "print(outliers[['PolicyID', 'TotalPremium', 'TotalClaims', 'VehicleType','Province' ]].head())"
   ]
  },
  {
   "cell_type": "code",
   "execution_count": 43,
   "id": "f7ece690",
   "metadata": {},
   "outputs": [
    {
     "name": "stdout",
     "output_type": "stream",
     "text": [
      "\n",
      "=== LOSS RATIO BY PRODUCT ===\n",
      "                                         Premium        Claims  Policies  \\\n",
      "Product                                                                    \n",
      "Mobility Metered Taxis: Monthly     3.534292e+06  5.404040e+06     36979   \n",
      "Mobility Commercial Cover: Monthly  5.748352e+07  5.593195e+07    576972   \n",
      "Bridge Taxi Finance: Monthly        9.030044e+05  7.370776e+05      3714   \n",
      "Standalone Passenger Liability      2.229294e+04  0.000000e+00       511   \n",
      "\n",
      "                                    LossRatio        Margin  \n",
      "Product                                                      \n",
      "Mobility Metered Taxis: Monthly      1.529031 -1.869748e+06  \n",
      "Mobility Commercial Cover: Monthly   0.973008  1.551568e+06  \n",
      "Bridge Taxi Finance: Monthly         0.816250  1.659269e+05  \n",
      "Standalone Passenger Liability       0.000000  2.229294e+04  \n",
      "\n",
      "=== LOSS RATIO BY PROVINCE ===\n",
      "                    Premium        Claims  Policies  LossRatio        Margin\n",
      "Province                                                                    \n",
      "Gauteng        2.405487e+07  2.798127e+07    240782   1.163227 -3.926403e+06\n",
      "Western Cape   9.810107e+06  1.024226e+07     96758   1.044052 -4.321559e+05\n",
      "KwaZulu-Natal  1.323578e+07  1.352635e+07    111896   1.021953 -2.905689e+05\n",
      "North West     7.490508e+06  5.593723e+06     89799   0.746775  1.896786e+06\n",
      "Mpumalanga     2.836292e+06  2.035792e+06     31663   0.717765  8.004995e+05\n",
      "Limpopo        1.537324e+06  9.918930e+05     18009   0.645207  5.454315e+05\n",
      "Eastern Cape   2.140303e+06  1.346308e+06     19694   0.629027  7.939949e+05\n",
      "Free State     5.213632e+05  2.659749e+05      5932   0.510153  2.553883e+05\n",
      "Northern Cape  3.165581e+05  8.949051e+04      3643   0.282699  2.270676e+05\n"
     ]
    }
   ],
   "source": [
    "# Segment loss ratio by key dimensions\n",
    "def analyze_loss_ratios(df):\n",
    "    segments = ['Product', 'Province', 'SalesChannel']\n",
    "    for segment in segments:\n",
    "        if segment in df.columns:\n",
    "            analysis = df.groupby(segment).agg(\n",
    "                Premium=('TotalPremium', 'sum'),\n",
    "                Claims=('TotalClaims', 'sum'),\n",
    "                Policies=('PolicyID', 'count')\n",
    "            ).assign(\n",
    "                LossRatio=lambda x: x['Claims'] / x['Premium'],\n",
    "                Margin=lambda x: x['Premium'] - x['Claims']\n",
    "            ).sort_values('LossRatio', ascending=False)\n",
    "            \n",
    "            print(f\"\\n=== LOSS RATIO BY {segment.upper()} ===\")\n",
    "            print(analysis.head(10))\n",
    "            \n",
    "analyze_loss_ratios(df_clean)"
   ]
  },
  {
   "cell_type": "code",
   "execution_count": 44,
   "id": "25f2018c",
   "metadata": {},
   "outputs": [
    {
     "name": "stdout",
     "output_type": "stream",
     "text": [
      "=== DATA VALIDATION ===\n",
      "Original records: 1,000,098\n",
      "Cleaned records: 618,174\n",
      "Excluded records: 381,924 (38.2%)\n",
      "\n",
      "Premium/Claims Summary:\n",
      "        TotalPremium    TotalClaims\n",
      "count  618174.000000  618174.000000\n",
      "mean      100.201396     100.442212\n",
      "std       286.235103    2989.936938\n",
      "min         0.000011       0.000000\n",
      "25%         2.631316       0.000000\n",
      "50%         7.280746       0.000000\n",
      "75%        78.947368       0.000000\n",
      "max     65282.603421  393092.105263\n",
      "\n",
      "✅ Cleaned Portfolio Loss Ratio: 1.002 (100.2%)\n",
      "   Total Premium: $61,941,897.73\n",
      "   Total Claims: $62,090,763.77\n"
     ]
    }
   ],
   "source": [
    "# Strict cleaning conditions\n",
    "clean_condition = (\n",
    "    (df['TotalPremium'] > 0) &      # Exclude $0 and negative premiums\n",
    "    (df['TotalClaims'] >= 0)         # Exclude negative claims\n",
    ")\n",
    "df_clean = df[clean_condition].copy()\n",
    "\n",
    "# 2. Calculate core metrics\n",
    "total_premium = df_clean['TotalPremium'].sum()\n",
    "total_claims = df_clean['TotalClaims'].sum()\n",
    "loss_ratio = total_claims / total_premium\n",
    "\n",
    "# 3. Validation checks\n",
    "print(\"=== DATA VALIDATION ===\")\n",
    "print(f\"Original records: {len(df):,}\")\n",
    "print(f\"Cleaned records: {len(df_clean):,}\")\n",
    "print(f\"Excluded records: {len(df) - len(df_clean):,} ({(len(df)-len(df_clean))/len(df):.1%})\")\n",
    "print(\"\\nPremium/Claims Summary:\")\n",
    "print(df_clean[['TotalPremium', 'TotalClaims']].describe())\n",
    "\n",
    "# 4. Final calculation with sanity checks\n",
    "assert total_premium > 0, \"Premium sum must be positive\"\n",
    "assert total_claims >= 0, \"Claims sum cannot be negative\"\n",
    "\n",
    "print(f\"\\n✅ Cleaned Portfolio Loss Ratio: {loss_ratio:.3f} ({loss_ratio:.1%})\")\n",
    "print(f\"   Total Premium: ${total_premium:,.2f}\")\n",
    "print(f\"   Total Claims: ${total_claims:,.2f}\")"
   ]
  },
  {
   "cell_type": "code",
   "execution_count": 45,
   "id": "263e9f69",
   "metadata": {},
   "outputs": [
    {
     "data": {
      "application/vnd.microsoft.datawrangler.viewer.v0+json": {
       "columns": [
        {
         "name": "Product",
         "rawType": "object",
         "type": "string"
        },
        {
         "name": "TotalPremium",
         "rawType": "float64",
         "type": "float"
        }
       ],
       "ref": "e696ff17-8750-47f4-a99f-ee72c32ec1ca",
       "rows": [
        [
         "Bridge Taxi Finance: Monthly",
         "171.8698967483399"
        ],
        [
         "Mobility Commercial Cover: Monthly",
         "62.79086630307093"
        ],
        [
         "Mobility Metered Taxis: Monthly",
         "44.54130038247163"
        ],
        [
         "Standalone Passenger Liability",
         "40.95493277720443"
        ]
       ],
       "shape": {
        "columns": 1,
        "rows": 4
       }
      },
      "text/plain": [
       "Product\n",
       "Bridge Taxi Finance: Monthly          171.869897\n",
       "Mobility Commercial Cover: Monthly     62.790866\n",
       "Mobility Metered Taxis: Monthly        44.541300\n",
       "Standalone Passenger Liability         40.954933\n",
       "Name: TotalPremium, dtype: float64"
      ]
     },
     "execution_count": 45,
     "metadata": {},
     "output_type": "execute_result"
    }
   ],
   "source": [
    "df.groupby('Product')['TotalPremium'].mean()"
   ]
  },
  {
   "cell_type": "code",
   "execution_count": 46,
   "id": "0d121984",
   "metadata": {},
   "outputs": [
    {
     "name": "stdout",
     "output_type": "stream",
     "text": [
      "DATA CLEANING REPORT\n",
      "========================================\n",
      "Original records: 1,000,098\n",
      "Cleaned records: 618,174\n",
      "Records excluded: 381,924\n",
      "\n",
      "DETAILED EXCLUSIONS:\n",
      "- Zero Premiums: 381,634\n",
      "- Negative Premiums: 288\n",
      "- Negative Claims: 5\n",
      "\n",
      "PORTFOLIO METRICS:\n",
      "- Total Premium: $61,941,897.73\n",
      "- Total Claims: $62,090,763.77\n",
      "- Loss Ratio: 100.2%\n",
      "\n"
     ]
    }
   ],
   "source": [
    "# Define exclusion criteria\n",
    "zero_premiums = (df['TotalPremium'] == 0)\n",
    "negative_premiums = (df['TotalPremium'] < 0)\n",
    "negative_claims = (df['TotalClaims'] < 0)\n",
    "exclusion_mask = zero_premiums | negative_premiums | negative_claims\n",
    "\n",
    "# Apply cleaning\n",
    "df_clean = df[~exclusion_mask].copy()\n",
    "\n",
    "# Add metrics\n",
    "df_clean['HasClaim'] = (df_clean['TotalClaims'] > 0).astype(int)\n",
    "df_clean['ClaimSeverity'] = df_clean['TotalClaims'].where(df_clean['HasClaim'] == 1, np.nan)\n",
    "df_clean['Margin'] = df_clean['TotalPremium'] - df_clean['TotalClaims']\n",
    "df_clean['LossRatio'] = df_clean['TotalClaims'] / df_clean['TotalPremium']\n",
    "\n",
    "# Save and report\n",
    "clean_filename = \"cleaned_policies.csv\"\n",
    "df_clean.to_csv(clean_filename, index=False)\n",
    "\n",
    "report = f\"\"\"DATA CLEANING REPORT\n",
    "{\"=\"*40}\n",
    "Original records: {len(df):,}\n",
    "Cleaned records: {len(df_clean):,}\n",
    "Records excluded: {exclusion_mask.sum():,}\n",
    "\n",
    "DETAILED EXCLUSIONS:\n",
    "- Zero Premiums: {zero_premiums.sum():,}\n",
    "- Negative Premiums: {negative_premiums.sum():,}\n",
    "- Negative Claims: {negative_claims.sum():,}\n",
    "\n",
    "PORTFOLIO METRICS:\n",
    "- Total Premium: ${df_clean['TotalPremium'].sum():,.2f}\n",
    "- Total Claims: ${df_clean['TotalClaims'].sum():,.2f}\n",
    "- Loss Ratio: {df_clean['TotalClaims'].sum()/df_clean['TotalPremium'].sum():.1%}\n",
    "\"\"\"\n",
    "\n",
    "print(report)\n",
    "with open('cleaning_report.txt', 'w') as f:\n",
    "    f.write(report)"
   ]
  }
 ],
 "metadata": {
  "kernelspec": {
   "display_name": "venv",
   "language": "python",
   "name": "python3"
  },
  "language_info": {
   "codemirror_mode": {
    "name": "ipython",
    "version": 3
   },
   "file_extension": ".py",
   "mimetype": "text/x-python",
   "name": "python",
   "nbconvert_exporter": "python",
   "pygments_lexer": "ipython3",
   "version": "3.10.0"
  }
 },
 "nbformat": 4,
 "nbformat_minor": 5
}
